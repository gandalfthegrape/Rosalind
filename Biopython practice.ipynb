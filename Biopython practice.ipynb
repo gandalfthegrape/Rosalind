{
 "cells": [
  {
   "cell_type": "code",
   "execution_count": 22,
   "metadata": {},
   "outputs": [],
   "source": [
    "from Bio.Seq import Seq"
   ]
  },
  {
   "cell_type": "code",
   "execution_count": 29,
   "metadata": {},
   "outputs": [
    {
     "name": "stdout",
     "output_type": "stream",
     "text": [
      "6.5 ms ± 483 µs per loop (mean ± std. dev. of 7 runs, 10 loops each)\n"
     ]
    }
   ],
   "source": [
    "%%timeit -n 10\n",
    "myseq = Seq('AGCTTTTCATTCTGACTGCAACGGGCAATATGTCTCTGTGTGGATTAAAAAAAGAGTGTCTGATAGCAGC'*10000)\n",
    "countA,countG,countC,countT = (myseq.count(x) for x in ['A','G','C','T'])"
   ]
  },
  {
   "cell_type": "code",
   "execution_count": 30,
   "metadata": {},
   "outputs": [
    {
     "name": "stdout",
     "output_type": "stream",
     "text": [
      "8.43 ms ± 2.7 ms per loop (mean ± std. dev. of 7 runs, 10 loops each)\n"
     ]
    }
   ],
   "source": [
    "%%timeit -n 10\n",
    "myseq = 'AGCTTTTCATTCTGACTGCAACGGGCAATATGTCTCTGTGTGGATTAAAAAAAGAGTGTCTGATAGCAGC'*10000\n",
    "countA,countG,countC,countT = (myseq.count(x) for x in ['A','G','C','T'])"
   ]
  },
  {
   "cell_type": "code",
   "execution_count": 32,
   "metadata": {},
   "outputs": [
    {
     "name": "stdout",
     "output_type": "stream",
     "text": [
      "235 242 207 230\n"
     ]
    }
   ],
   "source": [
    "myseq = Seq('TGAGCCTTATTGCTCAGTTGCAACACTAAAAGGGACGTACTTTTTTGCTGGCTGATGTGGTAGACAGAGGGGTTTGAACGGTCAGGGGCGCGCAGTATACAGAGGAATAGTCCTTAAAGCCGCAGTCAATTCCTCTCAAGCAGCCTCATAGAAGTCTGCCGGCGGGAAGAAGATATTTCATGCTATGTTCCAGATTATTAGGCTCCATATTGAACGATGATTAACGTTGTCTTGCCACTATTGACATAATTCTCTAATTTATTTTTGGATCGCACAAGTGGCAAGTTTGAAGTATTGTCACCGTCGAGAACTCGGTAGCAAATACGTCCAATCGGAGACTTCCCCGGATCGTCATCATGGATTATTGGGGGGCCAAAAGACTTAAACGGGCGCCTCCAGCGATCAGCGCCTGACCGTTTAATATGTATATTCGATCGCGCCTCGCGACCCGACCCGTTGCGCCAATGCACCATAAAGCCGGGGCACCAGTACCGATTTGGATGAAGTGTAATTTGGCTCTTGCATCAAAGAAGGCCAAGGTGAGATCGTCAGTAGGAACTTTCTAAGTTTTAATTACTTATTGGTGCGCAAGTCTAATCGCTTGAACCTATGACTCACAATTCCGGCAAGCGTATGTTCTCGCGTAAGGGGGAGATTTTTCTCAGAGACCCTCAGTCAGATGACTCACGAGACAGCCGTATTCTCGTGTGGCCTGGGCAGGAGCAGAACCAGATGTACTGCCAGAGAGACAACTTGTAGGGTGGACAAAGACCCGGCGTAGCGCCGCACTTACAGAGTCTCCTTGCCCCGTATGGAGGCATTCTTAGGGTGCGTAAAGAGTGCAGTCGATCAGCACGGTCTTTGGGACCTAAAATGCACGGTGAGTTAAGGGGTCATTCGCTAGAAACGGGACG')\n",
    "countA,countG,countC,countT = (myseq.count(x) for x in ['A','G','C','T'])\n",
    "print(countA,countG,countC,countT)"
   ]
  },
  {
   "cell_type": "markdown",
   "metadata": {},
   "source": [
    "### Manual extraction of protein processes"
   ]
  },
  {
   "cell_type": "code",
   "execution_count": 103,
   "metadata": {},
   "outputs": [
    {
     "name": "stdout",
     "output_type": "stream",
     "text": [
      "asexual sporulation\n",
      "sporulation resulting in formation of a cellular spore\n"
     ]
    }
   ],
   "source": [
    "import re\n",
    "import urllib.request\n",
    "\n",
    "uniprot_id = 'Q817I4'\n",
    "url = f'http://www.uniprot.org/uniprot/{uniprot_id}.txt'\n",
    "\n",
    "with urllib.request.urlopen(url) as f:\n",
    "    data = f.read().splitlines()\n",
    "\n",
    "processes = []\n",
    "for line in data:\n",
    "    if line[:7] == b'DR   GO':\n",
    "        interest = str(line[21:])[2:-1]\n",
    "        if (interest[0] == 'P'):\n",
    "            processes.append(re.sub(';.*','',interest[2:])) \n",
    "\n",
    "print(*processes,sep='\\n')"
   ]
  },
  {
   "cell_type": "markdown",
   "metadata": {},
   "source": [
    "### Now using Biopython"
   ]
  },
  {
   "cell_type": "code",
   "execution_count": 118,
   "metadata": {},
   "outputs": [
    {
     "name": "stdout",
     "output_type": "stream",
     "text": [
      "asexual sporulation\n",
      "sporulation resulting in formation of a cellular spore\n"
     ]
    }
   ],
   "source": [
    "from Bio import ExPASy\n",
    "from Bio import SwissProt\n",
    "handle = ExPASy.get_sprot_raw('Q817I4') #you can give several IDs separated by commas\n",
    "                                        #(but I think they all have to be one string)\n",
    "record = SwissProt.read(handle) # use SwissProt.parse for multiple proteins\n",
    "\n",
    "processes = []\n",
    "for line in record.cross_references: # found cross_references attribute using dir(record)\n",
    "    if line[0] == 'GO':\n",
    "        processes.append(line[2][2:])\n",
    "print(*processes,sep='\\n')"
   ]
  },
  {
   "cell_type": "markdown",
   "metadata": {},
   "source": [
    "### Genbank search\n",
    "Genbank can be accessed with Entrez Nucleotide. More Genbank details at https://www.ncbi.nlm.nih.gov/genbank/"
   ]
  },
  {
   "cell_type": "code",
   "execution_count": 145,
   "metadata": {},
   "outputs": [
    {
     "data": {
      "text/plain": [
       "'146'"
      ]
     },
     "execution_count": 145,
     "metadata": {},
     "output_type": "execute_result"
    }
   ],
   "source": [
    "from Bio import Entrez\n",
    "\n",
    "Given = 'Trichoderma \\\n",
    "            2001/09/08 \\\n",
    "            2002/04/02' \n",
    "Given = Given.split()\n",
    "SearchTerm,StartDate,EndDate = Given\n",
    "Query = f'({SearchTerm}[Organism]) AND (\"{StartDate}\"[Publication Date] : \"{EndDate}\"[Publication Date])'\n",
    "\n",
    "\n",
    "Entrez.email = 'brianjculver@gmail.com'\n",
    "Search = Entrez.esearch(db='nucleotide', term=Query)\n",
    "record = Entrez.read(Search)\n",
    "record['Count']             # Number of records with Organism name published between given dates"
   ]
  },
  {
   "cell_type": "markdown",
   "metadata": {},
   "source": [
    "Using Fasta formatted files from Genbank using Entrez.efetch(db,rettype)"
   ]
  },
  {
   "cell_type": "code",
   "execution_count": 183,
   "metadata": {},
   "outputs": [
    {
     "name": "stdout",
     "output_type": "stream",
     "text": [
      ">JX317645.1 Culex quinquefasciatus neuropeptide F mRNA, complete cds\n",
      "ATGGCATCCACAAGCAGCAGCAGCAGAATCAACAACAACCGCCATGCCGTCAGGTCATCAGCCTCTTCAG\n",
      "CGTTCACCCAGCGACTGCTAATCGGCCTGCTGGTCTGCACCCTGGTGCTGGATCTTAGCTGCCTGACCGA\n",
      "GGCCCGGCCCCAGGACGATCCCACCTCCGTCGCCGAAGCCATCCGACTGCTGCAGGAGCTGGAAACCAAG\n",
      "CACGCCCAACATGCCCGACCAAGATTCGGAAAACGTGGCTATCTCCAGCCGGCAAGTTACGGCCAGGACG\n",
      "AACAGGAGCGAAACTATTACAGGATGATTGGCAGGATTCAGCGTTTTCAAGATGAACAGAACGCCGTACT\n",
      "CAACTAA\n",
      "\n"
     ]
    }
   ],
   "source": [
    "from Bio import Entrez\n",
    "Entrez.email = 'brianjculver@gmail.com'\n",
    "id_string = 'JX205496 NM_001079732 JX469985 NM_001081821 JQ011276 FJ817486 JX469983 JX317645 JX398977'\n",
    "id_list = ', '.join(id_string.split())  # series of ids in one string separated by commas\n",
    "handle = Entrez.efetch(db='nucleotide',id=[id_list],rettype='fasta')\n",
    "records = handle.read() #returns fasta file in string format\n",
    "records = records.split('\\n>')\n",
    "lenlist = [len(record) for record in records]\n",
    "for record in records:\n",
    "    if len(record) == min(lenlist):    # printing shortest record from list\n",
    "        print('>'+record)"
   ]
  },
  {
   "cell_type": "markdown",
   "metadata": {},
   "source": [
    "Using Bio.SeqIO to handle fasta format"
   ]
  },
  {
   "cell_type": "code",
   "execution_count": 189,
   "metadata": {},
   "outputs": [
    {
     "name": "stdout",
     "output_type": "stream",
     "text": [
      ">JX469983.1 Zea mays subsp. mays clone UT3343 G2-like transcription factor mRNA, partial cds\n",
      "ATGATGTATCATGCGAAGAATTTTTCTGTGCCCTTTGCTCCGCAGAGGGCACAGGATAATGAGCATGCAAGTAATATTGGAGGTATTGGTGGACCCAACATAAGCAACCCTGCTAATCCTGTAGGAAGTGGGAAACAACGGCTACGGTGGACATCGGATCTTCATAATCGCTTTGTGGATGCCATCGCCCAGCTTGGTGGACCAGACAGAGCTACACCTAAAGGGGTTCTCACTGTGATGGGTGTACCAGGGATCACAATTTATCATGTGAAGAGCCATCTGCAGAAGTATCGCCTTGCAAAGTATATACCCGACTCTCCTGCTGAAGGTTCCAAGGACGAAAAGAAAGATTCGAGTGATTCCCTCTCGAACACGGATTCGGCACCAGGATTGCAAATCAATGAGGCACTAAAGATGCAAATGGAGGTTCAGAAGCGACTACATGAGCAACTCGAGGTTCAAAGACAACTGCAACTAAGAATTGAAGCACAAGGAAGATACTTGCAGATGATCATTGAGGAGCAACAAAAGCTTGGTGGATCAATTAAGGCTTCTGAGGATCAGAAGCTTTCTGATTCACCTCCAAGCTTAGATGACTACCCAGAGAGCATGCAACCTTCTCCCAAGAAACCAAGGATAGACGCATTATCACCAGATTCAGAGCGCGATACAACACAACCTGAATTCGAATCCCATTTGATCGGTCCGTGGGATCACGGCATTGCATTCCCAGTGGAGGAGTTCAAAGCAGGCCCTGCTATGAGCAAGTCA\n"
     ]
    }
   ],
   "source": [
    "from Bio import SeqIO\n",
    "from Bio import Entrez\n",
    "Entrez.email = 'brianjculver@gmail.com'\n",
    "id_list = \"FJ817486, JX069768, JX469983\"  # series of ids in one string\n",
    "handle = Entrez.efetch(db='nucleotide',id=[id_list],rettype='fasta')\n",
    "\n",
    "records_gen = SeqIO.parse(handle, \"fasta\") # generator object\n",
    "records = list(records_gen) #list of SeqRecord objects\n",
    "lenlist = [len(record.seq) for record in records]\n",
    "for record in records:\n",
    "    sequence = record.seq\n",
    "    if len(sequence) == min(lenlist):      # printing shortest record from list\n",
    "        print('>'+record.description+'\\n'+sequence)"
   ]
  },
  {
   "cell_type": "markdown",
   "metadata": {},
   "source": [
    "### FASTQ format"
   ]
  },
  {
   "cell_type": "code",
   "execution_count": 2,
   "metadata": {},
   "outputs": [
    {
     "data": {
      "text/plain": [
       "1"
      ]
     },
     "execution_count": 2,
     "metadata": {},
     "output_type": "execute_result"
    }
   ],
   "source": [
    "from Bio import SeqIO\n",
    "SeqIO.convert('fastq_test.fastq','fastq','fasta_result.fasta','fasta')"
   ]
  },
  {
   "cell_type": "code",
   "execution_count": null,
   "metadata": {},
   "outputs": [],
   "source": []
  }
 ],
 "metadata": {
  "kernelspec": {
   "display_name": "Python 3",
   "language": "python",
   "name": "python3"
  },
  "language_info": {
   "codemirror_mode": {
    "name": "ipython",
    "version": 3
   },
   "file_extension": ".py",
   "mimetype": "text/x-python",
   "name": "python",
   "nbconvert_exporter": "python",
   "pygments_lexer": "ipython3",
   "version": "3.7.1"
  }
 },
 "nbformat": 4,
 "nbformat_minor": 2
}
